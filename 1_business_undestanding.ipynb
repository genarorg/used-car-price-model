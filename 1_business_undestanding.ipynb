{
 "cells": [
  {
   "cell_type": "markdown",
   "metadata": {},
   "source": [
    "## What drives the price of a car?\n",
    "\n",
    "### 1. Background and Business Understanding\n",
    "\n",
    "Our client is a user car dealership that want to understand what makes a used car desirable to their customers. The company can benefit from a model that accurately estimates the sale value of a vehicle given its capabilities and characteristics. There are many factors that influence the price of a vehicle and we can use data analysis and machine learning to develop an understanding of how these factors play together. \n",
    "\n",
    "### Goals\n",
    "\n",
    "We will be working with a data sub-set of used car sales that contains information about the vehicle sold, along with some other information about the sale itself. We will study the data and use it to train a model that will help us answer the following questions:\n",
    "\n",
    "1. What attributes or conditions are the main contributors to the sale price of a vehicle?\n",
    "2. Given the data we have, can we predict the sale price of a car with a reasonable degree of confidence?\n",
    "\n",
    "### Project Plan\n",
    "\n",
    "We will perform a few tasks that will help us answer the questions above. We will also adhere to the methodlogy of the CRISP-DM framework, which consists in the following phases:\n",
    "\n",
    "**Data Understanding.**\n",
    "* Perform an exploratory data analysis.\n",
    "* Identify possible correlations between the independent variables in the data set.\n",
    "* Identify degree of correlation between independent variables and our target variable: *sale price*.\n",
    "\n",
    "**Data Preparation.**\n",
    "* Identify missing data.\n",
    "* Backfill missing data when appropriate.\n",
    "* Remove irrelevant data.\n",
    "* Find outliers and determine how to handle them.\n",
    "* Encode categorical data so its suitable for statistical analysis.\n",
    "* Analyse resulting (clean) data set. (Re-apply steps from #1 above)\n",
    "\n",
    "**Modeling.**\n",
    "\n",
    "We will use a few machine learning techniques to train several regression models and prepare them for evaluation. \n",
    "* Linear Regression\n",
    "* Ridge Regression\n",
    "* LASSO Regression\n",
    "\n",
    "**Deployment.**\n",
    "\n",
    "We will deliver a report for out client, explaining in the simplest terms what has been done and some recommendations. "
   ]
  },
  {
   "cell_type": "markdown",
   "metadata": {},
   "source": []
  }
 ],
 "metadata": {
  "kernelspec": {
   "display_name": "Python 3 (ipykernel)",
   "language": "python",
   "name": "python3"
  },
  "orig_nbformat": 4
 },
 "nbformat": 4,
 "nbformat_minor": 2
}
